{
  "nbformat": 4,
  "nbformat_minor": 0,
  "metadata": {
    "colab": {
      "name": "Projeto álbum de figurinhas.ipynb",
      "provenance": [],
      "authorship_tag": "ABX9TyPQ1bF9+JMwWhy9YvGXWUAD"
    },
    "kernelspec": {
      "name": "python3",
      "display_name": "Python 3"
    },
    "language_info": {
      "name": "python"
    }
  },
  "cells": [
    {
      "cell_type": "markdown",
      "source": [
        "#**PROJETO: Álbum One Piece 2021**\n",
        "\n",
        "\n",
        "*   Total de cromos: **212**.\n",
        "*   Preço do livro ilustrado capa brochura: **R$ 10,00**\n",
        "\n",
        "*   Envelope com 4 cromos: **R$ 4,00**\n",
        "\n",
        "\n",
        "\n",
        "\n"
      ],
      "metadata": {
        "id": "PabV7kEacgI-"
      }
    },
    {
      "cell_type": "markdown",
      "source": [
        "#**SUPOSIÇÕES**\n",
        "\n",
        "\n",
        "1.   Todas as figurinhas tem igual probabilidade de serem sorteadas.\n",
        "2.   Um pacotinho é comprado por vez até que se complete o álbum\n",
        "\n"
      ],
      "metadata": {
        "id": "weaO7AwHdH6W"
      }
    },
    {
      "cell_type": "markdown",
      "source": [
        "#**ALGORITMO**\n",
        "\n",
        "\n",
        "1.   Comprar um pacotinho de figurinhas (4 figurinhas cada, que podem ser repetidas);\n",
        "2.   Colar no álbum e verificar se o álbum está completo;\n",
        "3.   Caso esteja incompleto, comprar mais um pacotinho, caso contrário, terminar.\n",
        "\n",
        "\n",
        "\n",
        "\n",
        "\n",
        "\n",
        "\n",
        "\n"
      ],
      "metadata": {
        "id": "9q6OM3zGdlQ1"
      }
    },
    {
      "cell_type": "markdown",
      "source": [
        "# **PERGUNTAS**\n",
        "\n",
        "\n",
        "1.   Qual o valor médio investido para completar o álbum nessas condições?\n",
        "2.   Quantos pacotes são necessários comprar, em média, para completar o álbum?\n",
        "3.   Qual a distribuição empírica do valor investdo para comletar o álbum?\n",
        "4.   Qual a probabilidade de se gastar menos que R$ 1.500,00 para completar o álbum?\n",
        "5.   Qual a probabilidade de se gastar mais do que a média para completar o álbum?\n",
        "6.   Qual é um intervalo de confiança de 95% para o gasto ao se completar o álbum?\n",
        "7.   Qual o valor médio gasto caso se esteja comletando o álbum com mais umamigo?\n",
        "8.   Qual o valor médio gasto caso se esteja completando o álbum com mais dois amigos?\n"
      ],
      "metadata": {
        "id": "bkmvup3meVbt"
      }
    },
    {
      "cell_type": "code",
      "source": [
        "import numpy as np"
      ],
      "metadata": {
        "id": "sHp8qSj5gvoD"
      },
      "execution_count": null,
      "outputs": []
    },
    {
      "cell_type": "code",
      "source": [
        "n_album = 212 # quantidade de figurinhas do álbum\n",
        "preco_pacote = 4\n",
        "cromos_por_pacote = 4\n",
        "preco_album = 10\n",
        "album = np.zeros(n_album) # album vazio\n",
        "simulacoes = 100"
      ],
      "metadata": {
        "id": "_ywUPAu1oTbX"
      },
      "execution_count": 51,
      "outputs": []
    },
    {
      "cell_type": "code",
      "source": [
        "def simulaAlbum():\n",
        "  album = np.zeros(n_album) # album vazio\n",
        "  pacotes = 0\n",
        "  while True:\n",
        "    pacotinho = np.random.choice(np.arange(0,n_album), size = 4) #compra pacotinho\n",
        "    pacotes += 1 \n",
        "    for i in range(0,4): \n",
        "      album[pacotinho[i]] += 1  # cola figurinhas\n",
        "\n",
        "    if np.all(album >= 1):\n",
        "      break  \n",
        "  # Qual o valor investido no álbum\n",
        "  custo = pacotes*preco_pacote + preco_album    \n",
        "  \n",
        "  return custo #, pacotes"
      ],
      "metadata": {
        "id": "JO7cwg_RnpC1"
      },
      "execution_count": 100,
      "outputs": []
    },
    {
      "cell_type": "code",
      "source": [
        "simulaAlbum()"
      ],
      "metadata": {
        "id": "euJ7lS1MuCl3",
        "outputId": "eb5ec918-fc77-4f3d-9c02-47ecd479a81a",
        "colab": {
          "base_uri": "https://localhost:8080/"
        }
      },
      "execution_count": 101,
      "outputs": [
        {
          "output_type": "execute_result",
          "data": {
            "text/plain": [
              "1230"
            ]
          },
          "metadata": {},
          "execution_count": 101
        }
      ]
    },
    {
      "cell_type": "code",
      "source": [
        "resultados = []\n",
        "\n",
        "for i in range(simulacoes):\n",
        "  cada_pessoa = simulaAlbum()\n",
        "  resultados.append(cada_pessoa)\n",
        "\n",
        "sim = np.array(resultados)"
      ],
      "metadata": {
        "id": "XWzFt0aMDKFT"
      },
      "execution_count": 102,
      "outputs": []
    },
    {
      "cell_type": "code",
      "source": [
        "# 1) Qual o valor médio investido para completar o álbum nessas condições?\n",
        "# 2) Quantos pacotes são necessários comprar, em média, para completar o álbum?\n",
        "\n",
        "print('O valor médio gasto foi:', round(np.mean(sim), 2))\n",
        "print('O numero de pacotes médio foi:', round((np.mean(sim) - preco_album)/preco_pacote, 2))"
      ],
      "metadata": {
        "colab": {
          "base_uri": "https://localhost:8080/"
        },
        "id": "X03qk7K2FML4",
        "outputId": "b5c732d9-77aa-4c06-d591-a41910818fd6"
      },
      "execution_count": 103,
      "outputs": [
        {
          "output_type": "stream",
          "name": "stdout",
          "text": [
            "O valor médio gasto foi: 1270.36\n",
            "O numero de pacotes médio foi: 315.09\n"
          ]
        }
      ]
    },
    {
      "cell_type": "code",
      "source": [
        "# 3) Qual a distribuição empírica do valor investdo para comletar o álbum?\n",
        "\n",
        "import matplotlib.pyplot as plt"
      ],
      "metadata": {
        "id": "6JgRHNX0IbTD"
      },
      "execution_count": 91,
      "outputs": []
    },
    {
      "cell_type": "code",
      "source": [
        "plt.hist(sim, bins = 20, density = True, color = 'royalblue', edgecolor = 'darkblue')\n",
        "plt.title('Distribuição Empírica do Valor Gasto para Completar o Álbum')\n",
        "plt.show()"
      ],
      "metadata": {
        "colab": {
          "base_uri": "https://localhost:8080/",
          "height": 283
        },
        "id": "qAXOU4LTGhmX",
        "outputId": "ffb33d6c-68b4-44ed-b76b-d7fdd9783f79"
      },
      "execution_count": 97,
      "outputs": [
        {
          "output_type": "display_data",
          "data": {
            "text/plain": [
              "<Figure size 432x288 with 1 Axes>"
            ],
            "image/png": "[encoded data removed]"
          },
          "metadata": {
            "needs_background": "light"
          }
        }
      ]
    },
    {
      "cell_type": "code",
      "source": [
        "# 4) Qual a probabilidade de se gastar menos que R$ 1.500,00 para completar o álbum?\n",
        "# 5) Qual a probabilidade de se gastar mais do que a média para completar o álbum?\n",
        "\n",
        "prob1 = sum(np.array(sim) < 1500)/simulacoes\n",
        "prob2 = sum(np.array(sim) > np.array(sim).mean())/simulacoes\n",
        "\n",
        "print('A probabilidade de se gastar menos de 1.500 é {:.2f}%'.format(prob1*100))\n",
        "print('A probabilidade de se gastar mais do que a média é {:.2f}%'.format(prob2*100))"
      ],
      "metadata": {
        "colab": {
          "base_uri": "https://localhost:8080/"
        },
        "id": "FWQpe-M9O_Bq",
        "outputId": "a4011aba-f855-42e7-c3af-09fe0a04f45c"
      },
      "execution_count": 104,
      "outputs": [
        {
          "output_type": "stream",
          "name": "stdout",
          "text": [
            "A probabilidade de se gastar menos de 1.500 é 80.00%\n",
            "A probabilidade de se gastar mais do que a média é 45.00%\n"
          ]
        }
      ]
    },
    {
      "cell_type": "code",
      "source": [
        "# 6) Qual é um intervalo de confiança de 95% para o gasto ao se completar o álbum?\n",
        "# o ponto que separa os primeiros 2,5% e o ponto dos últimos 2,5%\n",
        "qts = np.quantile(resultados, [0.025,0.975])\n",
        "qts"
      ],
      "metadata": {
        "colab": {
          "base_uri": "https://localhost:8080/"
        },
        "id": "GhayUNUEVyp2",
        "outputId": "6e739578-77f3-4f55-9dc5-14d00cb265ca"
      },
      "execution_count": 105,
      "outputs": [
        {
          "output_type": "execute_result",
          "data": {
            "text/plain": [
              "array([ 867.7, 1766. ])"
            ]
          },
          "metadata": {},
          "execution_count": 105
        }
      ]
    },
    {
      "cell_type": "code",
      "source": [
        "# 7) Qual o valor médio gasto caso se esteja completando o álbum com mais um amigo?\n",
        "\n",
        "def simulaAlbum(n_amigos):\n",
        "  album = np.zeros(n_album)\n",
        "  pacotes = 0\n",
        "  while True:\n",
        "    pacotinho = np.random.choice(np.arange(0,n_album), size = 4)\n",
        "    pacotes += 1 \n",
        "\n",
        "    for i in range(0,4): \n",
        "      album[pacotinho[i]] += 1  \n",
        "\n",
        "    if np.all(album >= n_amigos):\n",
        "      break  \n",
        "  \n",
        "  custo = pacotes*preco_pacote + preco_album    \n",
        "  return custo/n_amigos"
      ],
      "metadata": {
        "id": "Y0jadl7NXQSj"
      },
      "execution_count": 106,
      "outputs": []
    },
    {
      "cell_type": "code",
      "source": [
        "simulaAlbum(2)"
      ],
      "metadata": {
        "colab": {
          "base_uri": "https://localhost:8080/"
        },
        "id": "4bYCVqfOYffc",
        "outputId": "f7ff41cb-f0dc-4c1d-f449-c3a110405b7e"
      },
      "execution_count": 107,
      "outputs": [
        {
          "output_type": "execute_result",
          "data": {
            "text/plain": [
              "687.0"
            ]
          },
          "metadata": {},
          "execution_count": 107
        }
      ]
    },
    {
      "cell_type": "code",
      "source": [
        "simulacoes = 100\n",
        "resultados = []\n",
        "\n",
        "for i in range(simulacoes):\n",
        "  pessoa = simulaAlbum(2)\n",
        "  resultados.append(pessoa)\n",
        "\n",
        "sim = np.array(resultados)\n"
      ],
      "metadata": {
        "id": "nJhVHYZ7YgH7"
      },
      "execution_count": 108,
      "outputs": []
    },
    {
      "cell_type": "code",
      "source": [
        "sim"
      ],
      "metadata": {
        "colab": {
          "base_uri": "https://localhost:8080/"
        },
        "id": "qt82WaOkZLvD",
        "outputId": "fdd6c2b8-0610-44ea-821f-a894fdac5efd"
      },
      "execution_count": 109,
      "outputs": [
        {
          "output_type": "execute_result",
          "data": {
            "text/plain": [
              "array([ 791.,  759.,  913., 1059.,  969.,  827.,  827.,  971.,  809.,\n",
              "       1015.,  839.,  979.,  993., 1129.,  977.,  811.,  977.,  875.,\n",
              "        965.,  891., 1241.,  675.,  735.,  737.,  653.,  747.,  847.,\n",
              "        689.,  973.,  919.,  675.,  793.,  773.,  803.,  925.,  823.,\n",
              "        709.,  707.,  691.,  775.,  989.,  739.,  909.,  939.,  653.,\n",
              "        805.,  895., 1371.,  561.,  637.,  853.,  841.,  679.,  713.,\n",
              "        919.,  767.,  897.,  839.,  839.,  747.,  847.,  773.,  815.,\n",
              "        723.,  689.,  815., 1071.,  965., 1129.,  861., 1057.,  805.,\n",
              "        883.,  681.,  925.,  839.,  785.,  737.,  871.,  771.,  853.,\n",
              "        811., 1039.,  865.,  723.,  891.,  785.,  681.,  751.,  681.,\n",
              "        799.,  835., 1029.,  687.,  829.,  985.,  691., 1057.,  975.,\n",
              "        789.])"
            ]
          },
          "metadata": {},
          "execution_count": 109
        }
      ]
    },
    {
      "cell_type": "code",
      "source": [
        "sim.mean()"
      ],
      "metadata": {
        "colab": {
          "base_uri": "https://localhost:8080/"
        },
        "id": "I0L4eORrZPO-",
        "outputId": "889f7af2-c7da-4acc-dfbb-611cd11408ce"
      },
      "execution_count": 110,
      "outputs": [
        {
          "output_type": "execute_result",
          "data": {
            "text/plain": [
              "846.56"
            ]
          },
          "metadata": {},
          "execution_count": 110
        }
      ]
    },
    {
      "cell_type": "code",
      "source": [
        "# 8) Qual o valor médio gasto caso se esteja completando o álbum com mais dois amigos?\n",
        "\n",
        "simulaAlbum(3)"
      ],
      "metadata": {
        "colab": {
          "base_uri": "https://localhost:8080/"
        },
        "id": "IkxCleMBZhuL",
        "outputId": "6f8f4785-5996-4829-9ca6-f13509044a26"
      },
      "execution_count": 111,
      "outputs": [
        {
          "output_type": "execute_result",
          "data": {
            "text/plain": [
              "638.0"
            ]
          },
          "metadata": {},
          "execution_count": 111
        }
      ]
    },
    {
      "cell_type": "code",
      "source": [
        "simulacoes = 100\n",
        "resultados = []\n",
        "\n",
        "for i in range(simulacoes):\n",
        "  pessoa = simulaAlbum(3)\n",
        "  resultados.append(pessoa)\n",
        "\n",
        "sim = np.array(resultados)"
      ],
      "metadata": {
        "id": "Xb_woSrDZu87"
      },
      "execution_count": 112,
      "outputs": []
    },
    {
      "cell_type": "code",
      "source": [
        "sim.mean()"
      ],
      "metadata": {
        "colab": {
          "base_uri": "https://localhost:8080/"
        },
        "id": "2wntG1RyZwsq",
        "outputId": "738f371f-4aaf-4675-bd60-127527404007"
      },
      "execution_count": 113,
      "outputs": [
        {
          "output_type": "execute_result",
          "data": {
            "text/plain": [
              "694.64"
            ]
          },
          "metadata": {},
          "execution_count": 113
        }
      ]
    }
  ]
}